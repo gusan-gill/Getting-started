{
  "nbformat": 4,
  "nbformat_minor": 0,
  "metadata": {
    "colab": {
      "provenance": [],
      "collapsed_sections": [],
      "authorship_tag": "ABX9TyNnnJk0x/ved0BCBqrqztgZ",
      "include_colab_link": true
    },
    "kernelspec": {
      "name": "python3",
      "display_name": "Python 3"
    },
    "language_info": {
      "name": "python"
    }
  },
  "cells": [
    {
      "cell_type": "markdown",
      "metadata": {
        "id": "view-in-github",
        "colab_type": "text"
      },
      "source": [
        "<a href=\"https://colab.research.google.com/github/gusan-gill/Getting-started/blob/Module-2-PCEP/Print_()_Function.ipynb\" target=\"_parent\"><img src=\"https://colab.research.google.com/assets/colab-badge.svg\" alt=\"Open In Colab\"/></a>"
      ]
    },
    {
      "cell_type": "code",
      "execution_count": null,
      "metadata": {
        "colab": {
          "base_uri": "https://localhost:8080/"
        },
        "id": "rYxKvGE6OZuo",
        "outputId": "6899b21e-19b0-4396-a138-34d7f23e0722"
      },
      "outputs": [
        {
          "output_type": "stream",
          "name": "stdout",
          "text": [
            "My name is Python, Monty Python.\n"
          ]
        }
      ],
      "source": [
        "print(\"My name is Python, Monty Python.\")"
      ]
    },
    {
      "cell_type": "code",
      "source": [
        "print(\"My name is Python\\nMonty Python\")"
      ],
      "metadata": {
        "colab": {
          "base_uri": "https://localhost:8080/"
        },
        "id": "Bycc7B16Op4d",
        "outputId": "6324a2f4-1633-4a9f-c305-3746676993e5"
      },
      "execution_count": null,
      "outputs": [
        {
          "output_type": "stream",
          "name": "stdout",
          "text": [
            "My name is Python\n",
            "Monty Python\n"
          ]
        }
      ]
    },
    {
      "cell_type": "code",
      "source": [],
      "metadata": {
        "id": "Xwd_Q1UDVaUa"
      },
      "execution_count": null,
      "outputs": []
    },
    {
      "cell_type": "code",
      "source": [
        "print(\"My name is Python\", \"Monty Gerrard Python\")"
      ],
      "metadata": {
        "colab": {
          "base_uri": "https://localhost:8080/"
        },
        "id": "vSX-IUS8O1TI",
        "outputId": "931cc3a9-2c60-4a77-a8a6-5f5fd24c8f68"
      },
      "execution_count": null,
      "outputs": [
        {
          "output_type": "stream",
          "name": "stdout",
          "text": [
            "My name is Python Monty Gerrard Python\n"
          ]
        }
      ]
    },
    {
      "cell_type": "code",
      "source": [
        "print(\"My name is Python\", end=\" \")\n",
        "print(\"Monty Gerard Python.\")"
      ],
      "metadata": {
        "colab": {
          "base_uri": "https://localhost:8080/"
        },
        "id": "P0SrQt1xPPPI",
        "outputId": "83fc96d4-3b83-4d29-fcdc-7481a8615179"
      },
      "execution_count": null,
      "outputs": [
        {
          "output_type": "stream",
          "name": "stdout",
          "text": [
            "My name is Python Monty Gerard Python.\n"
          ]
        }
      ]
    },
    {
      "cell_type": "code",
      "source": [
        "print(\"my\",\"name\",\"is\",\"Monty\",\"Python.\", sep=\" \")"
      ],
      "metadata": {
        "colab": {
          "base_uri": "https://localhost:8080/"
        },
        "id": "x_YTMGOKQENP",
        "outputId": "a2b40a74-7529-42ae-d09c-159fe05aa019"
      },
      "execution_count": null,
      "outputs": [
        {
          "output_type": "stream",
          "name": "stdout",
          "text": [
            "my name is Monty Python.\n"
          ]
        }
      ]
    },
    {
      "cell_type": "code",
      "source": [
        "print(\"My\", \"name\", \"is\", sep=\"_\", end=\"*\")\n",
        "print(\"Monty\", \"Python.\", sep=\"*\", end=\"*\\n\")"
      ],
      "metadata": {
        "colab": {
          "base_uri": "https://localhost:8080/"
        },
        "id": "a8WgilG7fTGe",
        "outputId": "b815be04-a272-4149-b4ca-467c674db8b7"
      },
      "execution_count": null,
      "outputs": [
        {
          "output_type": "stream",
          "name": "stdout",
          "text": [
            "My_name_is*Monty*Python.*\n"
          ]
        }
      ]
    },
    {
      "cell_type": "code",
      "source": [
        "print(\"Programming\",\"Essentials\",\"in\",sep=\"***\",end=\"...\")\n",
        "print(\"Python\",end=\"\\n\")"
      ],
      "metadata": {
        "colab": {
          "base_uri": "https://localhost:8080/"
        },
        "id": "l4o894azjavy",
        "outputId": "e30e95a4-fc5d-4664-ea4b-7a870eeed727"
      },
      "execution_count": null,
      "outputs": [
        {
          "output_type": "stream",
          "name": "stdout",
          "text": [
            "Programming***Essentials***in...Python\n"
          ]
        }
      ]
    },
    {
      "cell_type": "code",
      "source": [
        "print(\"    *\",\"\\n\")\n",
        "print(\"   * *\",\"\\n\")\n",
        "print(\"  *   *\" ,\"\\n\")\n",
        "print(\" *     *\" ,\"\\n\")\n",
        "print(\"***   ***\" ,\"\\n\")\n",
        "print(\"  *   *\" ,\"\\n\")\n",
        "print(\"  *   *\" ,\"\\n\")\n",
        "print(\"  *****\")\n",
        "\n"
      ],
      "metadata": {
        "colab": {
          "base_uri": "https://localhost:8080/"
        },
        "id": "gUhTRgyhEaH7",
        "outputId": "4b03cfc7-d29d-4fa8-a555-19234319f606"
      },
      "execution_count": null,
      "outputs": [
        {
          "output_type": "stream",
          "name": "stdout",
          "text": [
            "    * \n",
            "\n",
            "   * * \n",
            "\n",
            "  *   * \n",
            "\n",
            " *     * \n",
            "\n",
            "***   *** \n",
            "\n",
            "  *   * \n",
            "\n",
            "  *   * \n",
            "\n",
            "  *****\n"
          ]
        }
      ]
    },
    {
      "cell_type": "code",
      "source": [
        "print(*susan\\n)"
      ],
      "metadata": {
        "id": "ugnwCLsjGtZf"
      },
      "execution_count": null,
      "outputs": []
    }
  ]
}